{
 "cells": [
  {
   "cell_type": "code",
   "execution_count": 34,
   "id": "7e294ad7",
   "metadata": {},
   "outputs": [],
   "source": [
    "import pandas as pd\n",
    "import numpy as np\n",
    "import matplotlib.pyplot as plt\n",
    "from sklearn.model_selection import train_test_split\n",
    "import copy"
   ]
  },
  {
   "cell_type": "code",
   "execution_count": 35,
   "id": "e029ff50",
   "metadata": {},
   "outputs": [],
   "source": [
    "df = pd.read_csv(\"fashion-mnist_test.csv\")"
   ]
  },
  {
   "cell_type": "code",
   "execution_count": 36,
   "id": "e5184af0",
   "metadata": {},
   "outputs": [
    {
     "name": "stdout",
     "output_type": "stream",
     "text": [
      "X_train shape: (784, 7000)\n",
      "Y_train shape: (1, 7000)\n",
      "X_test shape: (784, 3000)\n",
      "Y_test shape: (1, 3000)\n"
     ]
    }
   ],
   "source": [
    "df_numeric = df.select_dtypes(include=[np.number])\n",
    "df_numeric = df_numeric.dropna()\n",
    "X = df_numeric.drop('label', axis=1).values\n",
    "Y = df_numeric['label'].values \n",
    "X = X/255.00\n",
    "X_train, X_test, Y_train, Y_test = train_test_split(X,  Y, test_size=0.3)\n",
    "X_train = X_train.T \n",
    "X_test = X_test.T    \n",
    "Y_train = Y_train.reshape(1, -1)  \n",
    "Y_test = Y_test.reshape(1, -1) \n",
    "print(\"X_train shape:\", X_train.shape)\n",
    "print(\"Y_train shape:\", Y_train.shape)\n",
    "print(\"X_test shape:\", X_test.shape)\n",
    "print(\"Y_test shape:\", Y_test.shape)"
   ]
  },
  {
   "cell_type": "code",
   "execution_count": 37,
   "id": "1d3c24da",
   "metadata": {},
   "outputs": [],
   "source": [
    "layers_dims = [784,128,64,10]"
   ]
  },
  {
   "cell_type": "code",
   "execution_count": 38,
   "id": "28695b28",
   "metadata": {},
   "outputs": [],
   "source": [
    "\n",
    "def relu(x):\n",
    "    A = np.maximum(0,x)\n",
    "    cache = x \n",
    "    return A,cache \n",
    "\n",
    "def softmax(x):\n",
    "    expZ = np.exp(x - np.max(x, axis=0, keepdims=True)) \n",
    "    A = expZ / np.sum(expZ, axis=0, keepdims=True)\n",
    "    return A\n",
    "\n",
    "def relu_backward(dA, cache):\n",
    "    Z = cache\n",
    "    dZ = np.zeros_like(Z)\n",
    "    dZ[Z > 0] = dA[Z > 0]\n",
    "    return dZ\n"
   ]
  },
  {
   "cell_type": "code",
   "execution_count": 39,
   "id": "0f13d07f",
   "metadata": {},
   "outputs": [],
   "source": [
    "def initialize_parameters_deep(layer_dims):\n",
    "    np.random.seed(3)\n",
    "    parameters = {}\n",
    "    L = len(layer_dims)\n",
    "    for l in range(1, L):\n",
    "        parameters['W' + str(l)] = np.random.randn(layer_dims[l], layer_dims[l-1]) * np.sqrt(2 / layer_dims[l-1])\n",
    "        parameters['b' + str(l)] = np.zeros((layer_dims[l],1))\n",
    "    return parameters\n"
   ]
  },
  {
   "cell_type": "code",
   "execution_count": 40,
   "id": "986f1275",
   "metadata": {},
   "outputs": [],
   "source": [
    "def linear_forward(A, W, b):\n",
    "    Z = np.dot(W,A)+b\n",
    "    cache = (A, W, b)\n",
    "    return Z, cache"
   ]
  },
  {
   "cell_type": "code",
   "execution_count": 41,
   "id": "1aed0dd5",
   "metadata": {},
   "outputs": [],
   "source": [
    "def linear_activation_forward(A_prev, W, b, activation):\n",
    "    if activation == \"relu\":\n",
    "        Z, linear_cache = linear_forward(A_prev,W,b)\n",
    "        A, activation_cache = relu(Z)\n",
    "    elif activation == \"softmax\":\n",
    "        Z, linear_cache = linear_forward(A_prev,W,b)\n",
    "        A = softmax(Z)\n",
    "        activation_cache = Z\n",
    "    cache = (linear_cache, activation_cache)\n",
    "    return A,cache"
   ]
  },
  {
   "cell_type": "code",
   "execution_count": 42,
   "id": "f4ff14d0",
   "metadata": {},
   "outputs": [],
   "source": [
    "def L_model_forward(X, parameters):\n",
    "    caches = []\n",
    "    A = X\n",
    "    L = len(parameters) // 2\n",
    "    for l in range(1, L):\n",
    "        A_prev = A\n",
    "        A, cache = linear_activation_forward(A_prev, parameters['W' + str(l)], parameters['b' + str(l)], activation=\"relu\")\n",
    "        caches.append(cache)\n",
    "\n",
    "    AL, cache = linear_activation_forward(A, parameters['W' + str(L)], parameters['b' + str(L)], activation=\"softmax\")\n",
    "    caches.append(cache)\n",
    "    return AL, caches"
   ]
  },
  {
   "cell_type": "code",
   "execution_count": 43,
   "id": "22d1c960",
   "metadata": {},
   "outputs": [],
   "source": [
    "def compute_cost(AL, Y):\n",
    "    m = Y.shape[1]\n",
    "    log_probs = np.log(AL[Y[0, :], np.arange(m)])\n",
    "    cost = -np.sum(log_probs) / m\n",
    "    cost = np.squeeze(cost)\n",
    "    return cost"
   ]
  },
  {
   "cell_type": "code",
   "execution_count": 44,
   "id": "42b1b0c3",
   "metadata": {},
   "outputs": [],
   "source": [
    "def linear_backward(dZ, cache):\n",
    "    A_prev, W, b = cache\n",
    "    m = A_prev.shape[1]\n",
    "    dW = (1/m) * np.dot(dZ, A_prev.T)\n",
    "    db = (1/m) * np.sum(dZ, axis=1, keepdims=True)\n",
    "    dA_prev = np.dot(W.T, dZ)\n",
    "\n",
    "    return dA_prev, dW, db"
   ]
  },
  {
   "cell_type": "code",
   "execution_count": 45,
   "id": "0beacbe3",
   "metadata": {},
   "outputs": [],
   "source": [
    "def linear_activation_backward(dA, cache, activation):\n",
    "    linear_cache, activation_cache = cache\n",
    "    if activation == \"relu\":\n",
    "        dZ = relu_backward(dA, activation_cache)\n",
    "        dA_prev, dW, db = linear_backward(dZ, linear_cache)\n",
    "    elif activation ==\"softmax\":\n",
    "        dZ = dA\n",
    "        dA_prev, dW, db = linear_backward(dZ, linear_cache)\n",
    "    return dA_prev,dW,db"
   ]
  },
  {
   "cell_type": "code",
   "execution_count": 46,
   "id": "8450b827",
   "metadata": {},
   "outputs": [],
   "source": [
    "def L_model_backward(AL, Y, caches):\n",
    "    grads = {}\n",
    "    L = len(caches) \n",
    "    m = AL.shape[1]\n",
    "    dZL = AL.copy()\n",
    "    for i in range(m):\n",
    "        dZL[Y[0, i], i] -= 1   \n",
    "    current_cache = caches[L-1][0]\n",
    "    dA_prev_temp, dW_temp, db_temp = linear_activation_backward(dZL, caches[L-1], activation=\"softmax\")\n",
    "    grads[\"dA\" + str(L-1)] = dA_prev_temp\n",
    "    grads[\"dW\" + str(L)]   = dW_temp\n",
    "    grads[\"db\" + str(L)]   = db_temp\n",
    "\n",
    "    for l in reversed(range(L-1)):\n",
    "        current_cache = caches[l]\n",
    "        dA_prev_temp, dW_temp, db_temp = linear_activation_backward(grads[\"dA\" + str(l+1)], current_cache, activation=\"relu\")\n",
    "        grads[\"dA\" + str(l)]     = dA_prev_temp\n",
    "        grads[\"dW\" + str(l+1)]   = dW_temp\n",
    "        grads[\"db\" + str(l+1)]   = db_temp\n",
    "\n",
    "    return grads\n",
    "        "
   ]
  },
  {
   "cell_type": "code",
   "execution_count": 47,
   "id": "348c27fd",
   "metadata": {},
   "outputs": [],
   "source": [
    "def update_parameters(params,grads,learning_rate):\n",
    "    parameters = copy.deepcopy(params)\n",
    "    L = len(parameters) // 2 \n",
    "    for l in range(L):\n",
    "        parameters[\"W\" + str(l+1)] = parameters[\"W\" + str(l+1)] - learning_rate * grads[\"dW\" + str(l+1)]\n",
    "        parameters[\"b\" + str(l+1)] =parameters[\"b\" + str(l+1)] - learning_rate * grads[\"db\" + str(l+1)]\n",
    "    return parameters\n",
    "\n",
    "     "
   ]
  },
  {
   "cell_type": "code",
   "execution_count": 48,
   "id": "6ae07351",
   "metadata": {},
   "outputs": [],
   "source": [
    "def L_layer_model(X, Y, layers_dims, learning_rate = 0.0075, num_iterations = 1000, print_cost=False):\n",
    "    np.random.seed(1)\n",
    "    costs = []  \n",
    "    parameters = initialize_parameters_deep(layers_dims)\n",
    "    for i in range(0, num_iterations):\n",
    "        AL,caches = L_model_forward(X, parameters)\n",
    "        cost = compute_cost(AL,Y)\n",
    "        grads = L_model_backward(AL,Y,caches)\n",
    "        parameters = update_parameters(parameters, grads, learning_rate)\n",
    "        if print_cost and i % 100 == 0:\n",
    "            print(f\"Cost after iteration {i}: {cost}\")\n",
    "            costs.append(cost)\n",
    "    \n",
    "    return parameters, costs"
   ]
  },
  {
   "cell_type": "code",
   "execution_count": 49,
   "id": "87d9faa1",
   "metadata": {},
   "outputs": [
    {
     "name": "stdout",
     "output_type": "stream",
     "text": [
      "Cost after iteration 0: 2.396536481375951\n",
      "Cost after iteration 100: 1.4649942077675357\n",
      "Cost after iteration 200: 1.0948729786452815\n",
      "Cost after iteration 300: 0.9165322364721422\n",
      "Cost after iteration 400: 0.8180115854951153\n",
      "Cost after iteration 500: 0.7531976335553506\n",
      "Cost after iteration 600: 0.7060486650179494\n",
      "Cost after iteration 700: 0.6692273475351636\n",
      "Cost after iteration 800: 0.6395433920961912\n",
      "Cost after iteration 900: 0.6149793311470708\n",
      "Cost after iteration 1000: 0.5943096277146485\n",
      "Cost after iteration 1100: 0.5765465325521487\n",
      "Cost after iteration 1200: 0.5609438416098197\n",
      "Cost after iteration 1300: 0.5470892024558881\n",
      "Cost after iteration 1400: 0.5348893296888304\n",
      "Cost after iteration 1500: 0.5239729377727883\n",
      "Cost after iteration 1600: 0.5140995644195416\n",
      "Cost after iteration 1700: 0.5051052036893914\n",
      "Cost after iteration 1800: 0.4968793480152223\n",
      "Cost after iteration 1900: 0.48931789914666324\n"
     ]
    }
   ],
   "source": [
    "layers_dims = [784, 128, 64, 10]  \n",
    "parameters, costs = L_layer_model(X_train, Y_train, layers_dims,learning_rate=0.0075, num_iterations=2000, print_cost=True)\n"
   ]
  },
  {
   "cell_type": "code",
   "execution_count": 50,
   "id": "983e8516",
   "metadata": {},
   "outputs": [
    {
     "name": "stdout",
     "output_type": "stream",
     "text": [
      "Train Accuracy: 84.10%\n",
      "Test Accuracy: 82.40%\n"
     ]
    }
   ],
   "source": [
    "def predict(X, parameters):\n",
    "    AL, _ = L_model_forward(X, parameters)\n",
    "    predictions = np.argmax(AL, axis=0)\n",
    "    return predictions\n",
    "\n",
    "Y_pred_train = predict(X_train, parameters)\n",
    "Y_pred_test = predict(X_test, parameters)\n",
    "\n",
    "train_acc = np.mean(Y_pred_train == Y_train[0]) * 100\n",
    "test_acc  = np.mean(Y_pred_test == Y_test[0]) * 100\n",
    "\n",
    "print(f\"Train Accuracy: {train_acc:.2f}%\")\n",
    "print(f\"Test Accuracy: {test_acc:.2f}%\")\n"
   ]
  },
  {
   "cell_type": "code",
   "execution_count": null,
   "id": "f8ce8b11",
   "metadata": {},
   "outputs": [],
   "source": []
  }
 ],
 "metadata": {
  "kernelspec": {
   "display_name": "base",
   "language": "python",
   "name": "python3"
  },
  "language_info": {
   "codemirror_mode": {
    "name": "ipython",
    "version": 3
   },
   "file_extension": ".py",
   "mimetype": "text/x-python",
   "name": "python",
   "nbconvert_exporter": "python",
   "pygments_lexer": "ipython3",
   "version": "3.12.4"
  }
 },
 "nbformat": 4,
 "nbformat_minor": 5
}
